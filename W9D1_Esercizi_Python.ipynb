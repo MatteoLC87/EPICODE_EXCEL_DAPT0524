{
 "cells": [
  {
   "cell_type": "code",
   "execution_count": 11,
   "id": "2bb80b49-2869-442d-a1f8-486f67ac25e7",
   "metadata": {},
   "outputs": [
    {
     "name": "stdout",
     "output_type": "stream",
     "text": [
      "25\n"
     ]
    }
   ],
   "source": [
    "numero_studenti=25\n",
    "print(numero_studenti)"
   ]
  },
  {
   "cell_type": "code",
   "execution_count": 13,
   "id": "2410b96f-0f98-4268-ab28-e0be9c25da59",
   "metadata": {},
   "outputs": [],
   "source": [
    "nuovi_studenti=4"
   ]
  },
  {
   "cell_type": "code",
   "execution_count": 9,
   "id": "07b643b9-98fe-4ad8-9fdf-c453b1837e77",
   "metadata": {},
   "outputs": [
    {
     "name": "stdout",
     "output_type": "stream",
     "text": [
      "29\n"
     ]
    }
   ],
   "source": [
    "totale_studenti=numero_studenti+nuovi_studenti\n",
    "print(totale_studenti)"
   ]
  },
  {
   "cell_type": "code",
   "execution_count": 17,
   "id": "cb2aebcd-fa59-4ec9-9c95-821076ce5e6c",
   "metadata": {},
   "outputs": [
    {
     "name": "stdout",
     "output_type": "stream",
     "text": [
      "Epicode\n"
     ]
    }
   ],
   "source": [
    "corso = \"Epicode\"\n",
    "print(corso)"
   ]
  },
  {
   "cell_type": "code",
   "execution_count": 39,
   "id": "aa63137b-6599-4a5c-9770-da3e8d10491f",
   "metadata": {},
   "outputs": [
    {
     "name": "stdout",
     "output_type": "stream",
     "text": [
      "36\n"
     ]
    }
   ],
   "source": [
    "x=10\n",
    "x+=2\n",
    "x*=3\n",
    "print(x)"
   ]
  },
  {
   "cell_type": "code",
   "execution_count": 41,
   "id": "27616c1e-2522-4322-b731-37e7d4f457d5",
   "metadata": {},
   "outputs": [
    {
     "name": "stdout",
     "output_type": "stream",
     "text": [
      "36\n"
     ]
    }
   ],
   "source": [
    "x=10\n",
    "x=x+2\n",
    "x=x*3\n",
    "print(x)"
   ]
  },
  {
   "cell_type": "code",
   "execution_count": 43,
   "id": "1a2f2f50-40c3-43f9-9ba3-ad608dccebc6",
   "metadata": {},
   "outputs": [
    {
     "name": "stdout",
     "output_type": "stream",
     "text": [
      "36\n"
     ]
    }
   ],
   "source": [
    "x=10\n",
    "a=2\n",
    "b=3\n",
    "x+=a\n",
    "x*=b\n",
    "print(x)"
   ]
  },
  {
   "cell_type": "code",
   "execution_count": null,
   "id": "63eadfb6-66fa-49e5-9479-1b24e60467c1",
   "metadata": {},
   "outputs": [],
   "source": [
    "# Verificare, per ognuna delle seguenti stringhe, se il numero di caratteri è compreso tra 5 e 8:\n",
    "# str1 = \"Windows\" • str2 = \"Excel\" • str3 = \"Powerpoint\" • str4 = \"Word\""
   ]
  },
  {
   "cell_type": "code",
   "execution_count": 84,
   "id": "0d3fc947-3d28-46e8-9fe2-1edcc1f56a2f",
   "metadata": {},
   "outputs": [
    {
     "name": "stdout",
     "output_type": "stream",
     "text": [
      "Windows: ha lunghezza compresa tra 5 e 8 caratteri\n",
      "Excel: ha lunghezza compresa tra 5 e 8 caratteri\n",
      "Powerpoint: NON ha lunghezza compresa tra 5 e 8 caratteri\n",
      "Word: NON ha lunghezza compresa tra 5 e 8 caratteri\n"
     ]
    }
   ],
   "source": [
    "str1 = \"Windows\"\n",
    "str2 = \"Excel\"\n",
    "str3 = \"Powerpoint\"\n",
    "str4 = \"Word\"\n",
    "for c in (str1,str2,str3,str4):\n",
    "    if 5<=len(c)<=8:\n",
    "        print(c+\": ha lunghezza compresa tra 5 e 8 caratteri\")\n",
    "    else:\n",
    "        print(c+\": NON ha lunghezza compresa tra 5 e 8 caratteri\")"
   ]
  },
  {
   "cell_type": "code",
   "execution_count": null,
   "id": "f9913c29-07e4-4225-b757-0ffbf7625f34",
   "metadata": {},
   "outputs": [],
   "source": [
    "# Calcolare e stampare a video quanti secondi ci sono in un anno non bisestile."
   ]
  },
  {
   "cell_type": "code",
   "execution_count": 67,
   "id": "1c070d6d-520a-4cbe-9870-84ede997bf3b",
   "metadata": {},
   "outputs": [
    {
     "name": "stdout",
     "output_type": "stream",
     "text": [
      "31622400 secondi\n"
     ]
    }
   ],
   "source": [
    "giorni_per_anno_bisestile=366\n",
    "ore_per_giorno=24\n",
    "minuti_per_ora=60\n",
    "secondi_per_minuto=60\n",
    "secondi_per_anno_bisestile=giorni_per_anno_bisestile*ore_per_giorno*minuti_per_ora*secondi_per_minuto\n",
    "print(str(secondi_per_anno_bisestile) + \" \" + \"secondi\")"
   ]
  },
  {
   "cell_type": "code",
   "execution_count": 96,
   "id": "e21552f1-4d59-4930-80b4-a68c19b0bfdd",
   "metadata": {},
   "outputs": [
    {
     "name": "stdout",
     "output_type": "stream",
     "text": [
      "I am studying Python\n",
      "I AM STUDYING PYTHON\n",
      "i am studying python\n",
      "i am studying python\n",
      "              i am studying python\n",
      "i am studying python\n",
      "i am studying a lot\n"
     ]
    }
   ],
   "source": [
    "# Abbiamo la seguente stringa: my_string = \"I am studying Python\"\n",
    "# Trasformarla in modo che tutti i caratteri siano maiuscoli (uppercase)\n",
    "# Trasformarla in modo che tutti i caratteri siano minuscoli (lowercase)\n",
    "# Sostituire la sottostringa \"Python\" con la stringa \"a lot\"\n",
    "# Usare il metodo .strip(); cambia qualcosa? Perché?\n",
    "\n",
    "my_string = \"I am studying Python\"\n",
    "print(my_string)\n",
    "\n",
    "my_string = my_string.upper()\n",
    "print(my_string)\n",
    "\n",
    "my_string = my_string.lower()\n",
    "print(my_string)\n",
    "\n",
    "my_string = my_string.strip() # non ha effetto perché non ci sono spazi all'inizio o alla fine della stringa\n",
    "print(my_string)\n",
    "\n",
    "my_string = \"              \" + my_string # aggiungo spazi prima della stringa per verificare che poi la funzione str.strip() li rimuova.\n",
    "print(my_string)\n",
    "\n",
    "my_string = my_string.strip()\n",
    "print(my_string)\n",
    "\n",
    "my_string = my_string.replace(\"python\",\"a lot\")\n",
    "print(my_string)"
   ]
  },
  {
   "cell_type": "code",
   "execution_count": null,
   "id": "0fa83ecd-7250-4474-a2b6-86d82a5b3673",
   "metadata": {},
   "outputs": [],
   "source": []
  },
  {
   "cell_type": "code",
   "execution_count": null,
   "id": "196f6132-5849-4185-9d9e-5306120fe26d",
   "metadata": {},
   "outputs": [],
   "source": []
  }
 ],
 "metadata": {
  "kernelspec": {
   "display_name": "Python 3 (ipykernel)",
   "language": "python",
   "name": "python3"
  },
  "language_info": {
   "codemirror_mode": {
    "name": "ipython",
    "version": 3
   },
   "file_extension": ".py",
   "mimetype": "text/x-python",
   "name": "python",
   "nbconvert_exporter": "python",
   "pygments_lexer": "ipython3",
   "version": "3.12.7"
  }
 },
 "nbformat": 4,
 "nbformat_minor": 5
}
