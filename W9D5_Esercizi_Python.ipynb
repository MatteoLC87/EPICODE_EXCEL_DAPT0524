{
 "cells": [
  {
   "cell_type": "code",
   "execution_count": 1,
   "id": "770205b2-f1d8-4c3e-ab64-4b6a5615db5d",
   "metadata": {},
   "outputs": [],
   "source": [
    "#Abbiamo la stringa: nome_scuola = \"Epicode\" Stampare ogni carattere della stringa, uno su ogni riga, utilizzando un costrutto while."
   ]
  },
  {
   "cell_type": "code",
   "execution_count": 2,
   "id": "8e3d0386-7f10-4cb8-93a7-cc295dbc4114",
   "metadata": {},
   "outputs": [
    {
     "name": "stdout",
     "output_type": "stream",
     "text": [
      "E\n",
      "p\n",
      "i\n",
      "c\n",
      "o\n",
      "d\n",
      "e\n"
     ]
    }
   ],
   "source": [
    "nome_scuola = \"Epicode\"\n",
    "index = 0\n",
    "while index < len(nome_scuola):\n",
    "    print(nome_scuola[index])\n",
    "    index += 1"
   ]
  },
  {
   "cell_type": "code",
   "execution_count": 3,
   "id": "4e7f5315-9f9b-4517-8a0a-93225e66c02e",
   "metadata": {},
   "outputs": [],
   "source": [
    "#Stampare a video tutti i numeri da 0 a 20 utilizzando il costrutto while. \n",
    "#Utilizzeremo: \n",
    "#• un ciclo while \n",
    "#• la funzione print() \n",
    "#• una variabile, che dovrà essere inizializzata \n",
    "#• una procedura di incremento"
   ]
  },
  {
   "cell_type": "code",
   "execution_count": null,
   "id": "f0b91f6e-5084-4e81-a3d7-18c64e422484",
   "metadata": {},
   "outputs": [],
   "source": [
    "numero_iniziale = int(input(\"inserire numero iniziale \"))\n",
    "numero_finale = int(input(\"inserire numero finale \"))\n",
    "numero = numero_iniziale\n",
    "while numero <= numero_finale:\n",
    "    print(numero)\n",
    "    numero += 1"
   ]
  },
  {
   "cell_type": "code",
   "execution_count": null,
   "id": "38781fda-6821-4428-94c8-8552f3b11e9d",
   "metadata": {},
   "outputs": [],
   "source": [
    "#Calcolare e stampare tutte le prime 10 potenze di 2 (e.g., 2⁰, 2¹, 2², …) utilizzando un ciclo while."
   ]
  },
  {
   "cell_type": "code",
   "execution_count": null,
   "id": "d10a3bd1-4841-4901-8afd-00f5e76dd2a7",
   "metadata": {},
   "outputs": [],
   "source": [
    "base = 2\n",
    "esponente = 0\n",
    "esponente_massimo = 9\n",
    "while esponente <= esponente_massimo:\n",
    "    print(f\"{base}^{esponente} = {base**esponente}\")\n",
    "    esponente += 1"
   ]
  },
  {
   "cell_type": "code",
   "execution_count": null,
   "id": "39e38b55-9fd3-4438-b4cb-084998e30b91",
   "metadata": {},
   "outputs": [],
   "source": [
    "#Calcolare e stampare tutte le prime N potenze di 2 utilizzando un ciclo while, domandando all'utente di inserire N."
   ]
  },
  {
   "cell_type": "code",
   "execution_count": null,
   "id": "e93dd5f6-639f-4af9-99ef-3573b464ffd4",
   "metadata": {},
   "outputs": [],
   "source": [
    "base = 2\n",
    "esponente = 0\n",
    "esponente_massimo = int(input(\"inserire esponente massimo:\"))\n",
    "while esponente <= esponente_massimo:\n",
    "    print(f\"{base}^{esponente} = {base**esponente}\", end = \"    \")\n",
    "    esponente += 1"
   ]
  },
  {
   "cell_type": "code",
   "execution_count": null,
   "id": "f19ab848-825b-4e98-a094-fde0299c711b",
   "metadata": {},
   "outputs": [],
   "source": [
    "#Calcolare e stampare tutte le potenze di 2 minori di 25000."
   ]
  },
  {
   "cell_type": "code",
   "execution_count": null,
   "id": "a4a3b453-7bcc-4738-ac43-b26e9313be6b",
   "metadata": {},
   "outputs": [],
   "source": [
    "base = 2\n",
    "esponente = 0\n",
    "while base**esponente < 25000:\n",
    "    print(f\"{base}^{esponente} = {base**esponente}\")\n",
    "    esponente += 1"
   ]
  },
  {
   "cell_type": "code",
   "execution_count": null,
   "id": "d9f54329-25d6-4a2b-85b2-7eebae376173",
   "metadata": {},
   "outputs": [],
   "source": [
    "#le liste sono in corrispondenza posizionale\n",
    "#quindi devo aggiungere frontend e cyber alla fine  della lista corsi con append a mano\n",
    "\n",
    "#Abbiamo due liste, una di studenti e una di corsi: \n",
    "#studenti = [\"Alex\", \"Bob\", \"Cindy\", \"Dan\", \"Emma\", \"Faith\", \"Grace\", \"Henry\"] \n",
    "#corsi = [\"Cybersecurity\", \"Data Analyst\", \"Backend\", \"Frontend\", \"Data Analyst\", \"Backend\"]\n",
    "#Aggiungere i dati mancanti alla lista corsi, sapendo che Emma segue Data Analyst Faith segue Backend Grace segue Frontend Henry segue Cybersecurity\n",
    "#Aggiungeremo i dati mancanti uno alla volta con il metodo per appendere in coda alle liste, poi verificheremo che sono della stessa lunghezza e \n",
    "#se lo sono stamperemo la lista corsi. Se alcuni dati sono già presenti non vanno aggiunti di nuovo."
   ]
  },
  {
   "cell_type": "code",
   "execution_count": null,
   "id": "22a3c35b-f23e-4aca-8290-f8fe6b7bf7f2",
   "metadata": {},
   "outputs": [],
   "source": [
    "studenti = [\"Alex\", \"Bob\", \"Cindy\", \"Dan\", \"Emma\", \"Faith\", \"Grace\", \"Henry\"]\n",
    "corsi = [\"Cybersecurity\", \"Data Analyst\", \"Backend\", \"Frontend\", \"Data Analyst\", \"Backend\"]\n",
    "\n",
    "print(corsi)\n",
    "corsi.append(\"Frontend\")\n",
    "corsi.append(\"Cybersecurity\")\n",
    "print(corsi)\n",
    "#Emma segue Data Analyst \n",
    "#Faith segue Backend \n",
    "#Grace segue Frontend \n",
    "#Henry segue Cybersecurity\n",
    "#??????????????????????????"
   ]
  },
  {
   "cell_type": "code",
   "execution_count": null,
   "id": "1048b34c-2e0d-4220-bd80-9269908fb8ad",
   "metadata": {},
   "outputs": [],
   "source": [
    "#Scriviamo un programma che chiede in input all'utente una stringa e visualizza i primi 3 caratteri, seguiti da 3 punti di sospensione e quindi gli \n",
    "#ultimi 3 caratteri, similmente all'esercizio della lezione scorsa. Stavolta facciamo attenzione a tutti i casi particolari, ovvero implementare \n",
    "#soluzioni ad hoc per stringhe di lunghezza inferiore a 6 caratteri."
   ]
  },
  {
   "cell_type": "code",
   "execution_count": null,
   "id": "e63bb2a4-55bb-4d5b-a4ef-abe83c1f6810",
   "metadata": {},
   "outputs": [],
   "source": [
    "stringa = input(\"inserire stringa:\")\n",
    "caratteri = len(stringa)\n",
    "if caratteri >=6:\n",
    "    print(f\"{stringa[0]}{stringa[1]}{stringa[2]}...{stringa[-3]}{stringa[-2]}{stringa[-1]}\")\n",
    "elif caratteri == 5:\n",
    "    print(f\"{stringa[0]}{stringa[1]}...{stringa[-3]}{stringa[-2]}{stringa[-1]}\")\n",
    "elif caratteri == 4:\n",
    "    print(f\"{stringa[0]}{stringa[1]}...{stringa[-2]}{stringa[-1]}\")\n",
    "elif caratteri == 3:\n",
    "    print(f\"{stringa[0]}{stringa[1]}...{stringa[-1]}\")\n",
    "elif caratteri == 2:\n",
    "    print(f\"{stringa[0]}...{stringa[-1]}\")\n",
    "elif caratteri == 1:\n",
    "    print(f\"{stringa[0]}...\")\n",
    "elif caratteri == 0:\n",
    "    print(\"...\")\n",
    "    "
   ]
  },
  {
   "cell_type": "code",
   "execution_count": null,
   "id": "3a9842d5-5e86-4714-b0c6-f8880c294760",
   "metadata": {},
   "outputs": [],
   "source": [
    "stringa = input(\"inserire stringa:\")\n",
    "caratteri = len(stringa)\n",
    "if caratteri >=6:\n",
    "    print(f\"{stringa[:3]}...{stringa[-3:]}\")\n",
    "elif caratteri == 5:\n",
    "    print(f\"{stringa[:2]}...{stringa[-3:]}\")\n",
    "elif caratteri == 4:\n",
    "    print(f\"{stringa[:2]}...{stringa[-2:]}\")\n",
    "elif caratteri == 3:\n",
    "    print(f\"{stringa[:2]}...{stringa[-1]}\")\n",
    "elif caratteri == 2:\n",
    "    print(f\"{stringa[0]}...{stringa[-1]}\")\n",
    "elif caratteri == 1:\n",
    "    print(f\"{stringa[0]}...\")\n",
    "elif caratteri == 0:\n",
    "    print(\"...\")\n",
    "    "
   ]
  },
  {
   "cell_type": "code",
   "execution_count": null,
   "id": "a1315e06-4a49-4917-b273-10a817e8ec82",
   "metadata": {},
   "outputs": [],
   "source": [
    "#Memorizza e stampa tutti i fattori di un numero dato in input. \n",
    "#Esempio: \n",
    "#• input: 150 \n",
    "#• output: [2, 3, 5, 5]"
   ]
  },
  {
   "cell_type": "code",
   "execution_count": null,
   "id": "36c63e79-de4e-4ac4-a872-a90716e415f6",
   "metadata": {},
   "outputs": [],
   "source": [
    "numero = int(input(\"inserire numero:\"))\n",
    "divisore = 2\n",
    "numero_attuale = numero\n",
    "fattori = []\n",
    "while numero_attuale > 1:\n",
    "    if numero_attuale % divisore == 0:\n",
    "        fattori.append(divisore)\n",
    "        numero_attuale /= divisore\n",
    "    else:\n",
    "        divisore += 1\n",
    "print(f\"i fattori del numero {numero} sono {fattori}\")"
   ]
  },
  {
   "cell_type": "code",
   "execution_count": null,
   "id": "dd783d5e-0fea-49d0-93d2-0a86b8ee5c56",
   "metadata": {},
   "outputs": [],
   "source": [
    "#Abbiamo la stringa: nome_scuola = \"Epicode\" Stampare ogni carattere della stringa, uno su ogni riga, utilizzando un costrutto for."
   ]
  },
  {
   "cell_type": "code",
   "execution_count": null,
   "id": "e6d771f7-8a1b-48dd-9e6e-6c94c2e2d058",
   "metadata": {},
   "outputs": [],
   "source": [
    "nome_scuola = \"Epicode\"\n",
    "for lettera in nome_scuola:\n",
    "    print(lettera)"
   ]
  },
  {
   "cell_type": "code",
   "execution_count": null,
   "id": "75214769-a18e-4cbf-bee3-89362f36f2cd",
   "metadata": {},
   "outputs": [],
   "source": [
    "#Calcolare e stampare tutte le prime 10 potenze di 2 utilizzando un ciclo. \n",
    "#Utilizzeremo:\n",
    "#• un ciclo per generare i primi 10 numeri, e.g.: range_numerico = list()  # init num = 1  # init while num <= 10: range_numerico.append(num) num += 1"
   ]
  },
  {
   "cell_type": "code",
   "execution_count": null,
   "id": "88d97013-f865-48b5-8f92-8712cd3c0d35",
   "metadata": {},
   "outputs": [],
   "source": [
    "base = 2\n",
    "esponente_minimo, esponente_massimo = 0, 9\n",
    "esponente = esponente_minimo\n",
    "for esponente in range (esponente_minimo,(esponente_massimo+1)):\n",
    "    print(f\"{base}^{esponente} = {base**esponente}\")"
   ]
  },
  {
   "cell_type": "code",
   "execution_count": null,
   "id": "2edcef97-60d7-4f56-8c49-ca5b13b45f76",
   "metadata": {},
   "outputs": [],
   "source": [
    "#Calcolare (ma non stampare) le prime N potenze di K; ognuna di esse andrà memorizzata in coda a una lista. Alla fine, stampare la lista risultante.\n",
    "#Proviamo con diversi valori di K, oppure facciamola inserire all'utente. Realizzare due versioni: \n",
    "#• con un ciclo while, \n",
    "#• con un ciclo for."
   ]
  },
  {
   "cell_type": "code",
   "execution_count": null,
   "id": "44e6cf9b-498a-4b5d-8d81-7c7a0b95db9e",
   "metadata": {},
   "outputs": [],
   "source": [
    "numero_potenze = int(input(\"inserire numero di potenze da calcolare N:\"))\n",
    "base = int(input(\"inserire valore della base K:\"))\n",
    "esponente = 0\n",
    "esponente_massimo = numero_potenze-1\n",
    "potenze = []\n",
    "while esponente <= esponente_massimo:\n",
    "    potenze.append(base**esponente)\n",
    "    esponente += 1\n",
    "print(potenze)"
   ]
  },
  {
   "cell_type": "code",
   "execution_count": null,
   "id": "1d4846dc-168f-48a5-b774-329407fe50cb",
   "metadata": {},
   "outputs": [],
   "source": [
    "numero_potenze = int(input(\"inserire numero di potenze da calcolare N:\"))\n",
    "base = int(input(\"inserire valore della base K:\"))\n",
    "esponente = 0\n",
    "esponente_massimo = numero_potenze-1\n",
    "potenze = []\n",
    "for esponente in range (0,esponente_massimo+1):\n",
    "    potenze.append(base**esponente)\n",
    "print(potenze)"
   ]
  },
  {
   "cell_type": "code",
   "execution_count": null,
   "id": "5996ed8c-d84d-4b87-b9fd-dd76f37e20ef",
   "metadata": {},
   "outputs": [],
   "source": [
    "#Abbiamo una lista con i guadagni degli ultimi 12 mesi: guadagni = [100, 90, 70, 40, 50, 80, 90, 120, 80, 20, 50, 50] usando un costrutto for, \n",
    "#calcolare la media dei guadagni e stamparla a video."
   ]
  },
  {
   "cell_type": "code",
   "execution_count": null,
   "id": "5d1bb48c-7f4f-48b4-995b-d09ae1a96153",
   "metadata": {},
   "outputs": [],
   "source": [
    "guadagni = [100, 90, 70, 40, 50, 80, 90, 120, 80, 20, 50, 50]\n",
    "totale_guadagni = 0\n",
    "for cifra in guadagni:\n",
    "    totale_guadagni += cifra\n",
    "media_guadagni = totale_guadagni/len(guadagni)\n",
    "print(media_guadagni)"
   ]
  },
  {
   "cell_type": "code",
   "execution_count": null,
   "id": "7bf379e7-ebff-4aba-a433-df304b20256a",
   "metadata": {},
   "outputs": [],
   "source": [
    "#Abbiamo una lista di parole: \n",
    "#parole = [\"Albergo\", \"Sedia\", \"Borgo\", \"Petalo\", \"Eremo\", \"Belvedere\", \"Semestre\", \"Esteta\", \"Sosta\", \"Orpello\", \"Abete\", \"Orologio\", \"Cesta\", \"Ermellino\"] \n",
    "#stampiamo, per ogni parola, quante volte appare la lettera \"e\"; facciamo attenzione al fatto che appare sia maiuscola che minuscola."
   ]
  },
  {
   "cell_type": "code",
   "execution_count": null,
   "id": "357a775a-1f31-45a9-b9a2-519e3851cc2e",
   "metadata": {},
   "outputs": [],
   "source": [
    "parole = [\"Albergo\", \"Sedia\", \"Borgo\", \"Petalo\", \"Eremo\", \"Belvedere\", \"Semestre\", \"Esteta\", \"Sosta\", \"Orpello\", \"Abete\", \"Orologio\", \"Cesta\", \"Ermellino\"]\n",
    "count = 0\n",
    "for parola in parole:\n",
    "    for lettera in parola:\n",
    "        if lettera in (\"e\",\"E\"):\n",
    "            count += 1\n",
    "    print(f\"e/E in {parola}: {count}\")\n",
    "    count = 0"
   ]
  },
  {
   "cell_type": "code",
   "execution_count": null,
   "id": "ed472cfa-9a52-4934-b5e7-53ef5a147109",
   "metadata": {},
   "outputs": [],
   "source": [
    "#Creiamo un dizionario che assegni ad ogni proprietario la sua auto, sapendo che: \n",
    "#• Ada guida una Punto \n",
    "#• Ben guida una Multipla \n",
    "#• Charlie guida una Golf \n",
    "#• Debbie guida una 107 Stampiamo il dizionario per intero, e poi l'auto associata a Debbie."
   ]
  },
  {
   "cell_type": "code",
   "execution_count": null,
   "id": "0d5a20b9-019f-4342-89fe-88471f39b35c",
   "metadata": {},
   "outputs": [],
   "source": [
    "dizionario_proprietario_auto = {\"Ada\":\"Punto\",\"Ben\":\"Multipla\",\"Charlie\":\"Golf\",\"Debbie\":\"107\"}\n",
    "print(dizionario_proprietario_auto)\n",
    "print(f\"L'auto di Debbie è: {dizionario_proprietario_auto.get(\"Debbie\")}\")"
   ]
  },
  {
   "cell_type": "code",
   "execution_count": null,
   "id": "a367bb17-a085-4dba-a5d2-72dc6f618230",
   "metadata": {},
   "outputs": [],
   "source": [
    "#Abbiamo un dizionario che assegna ad ogni proprietario la sua auto: \n",
    "#dizionario_auto = {\"Ada\": \"Punto\", \"Ben\": \"Multipla\", \"Charlie\": \"Golf\", \"Debbie\": \"107\"} \n",
    "#Con un ciclo, e usando il metodo .values(), stampiamo a video tutte le auto che non sono una Multipla."
   ]
  },
  {
   "cell_type": "code",
   "execution_count": null,
   "id": "6efb3c97-5b09-4b4e-ab8c-3bfb0c1a6561",
   "metadata": {},
   "outputs": [],
   "source": [
    "dizionario_auto = {\"Ada\": \"Punto\", \"Ben\": \"Multipla\", \"Charlie\": \"Golf\", \"Debbie\": \"107\"}\n",
    "\n",
    "for auto in dizionario_auto.values():\n",
    "    if auto != \"Multipla\":\n",
    "        print(auto)"
   ]
  },
  {
   "cell_type": "code",
   "execution_count": null,
   "id": "05576ce1-6857-43c2-ade4-03d358791478",
   "metadata": {},
   "outputs": [],
   "source": [
    "#Abbiamo due dizionari che assegnano ad ogni proprietario la propria auto: \n",
    "#dizionario_auto = {\"Ada\": \"Punto\", \"Ben\": \"Multipla\", \"Charlie\": \"Golf\", \"Debbie\": \"107\", \"Emily\": \"A1\"} \n",
    "#nuovi_proprietari = {\"Ben\": \"Polo\", \"Fred\": \"Octavia\", \"Grace\": \"Yaris\", \"Hugh\": \"Clio\"} \n",
    "#Aggiornare il dizionario dizionario_auto con i dati contenuti in nuovi_proprietari e stamparlo. Cosa è successo a Ben?"
   ]
  },
  {
   "cell_type": "code",
   "execution_count": null,
   "id": "6e799584-8227-4fe2-b3f1-1eaa13f227b9",
   "metadata": {},
   "outputs": [],
   "source": [
    "dizionario_auto = {\"Ada\": \"Punto\", \"Ben\": \"Multipla\", \"Charlie\": \"Golf\", \"Debbie\": \"107\", \"Emily\": \"A1\"}\n",
    "nuovi_proprietari = {\"Ben\": \"Polo\", \"Fred\": \"Octavia\", \"Grace\": \"Yaris\", \"Hugh\": \"Clio\"}\n",
    "\n",
    "dizionario_auto.update(nuovi_proprietari)\n",
    "dizionario_auto.items()"
   ]
  },
  {
   "cell_type": "code",
   "execution_count": null,
   "id": "55584b2d-3771-4178-ae6a-fc6a222fb15d",
   "metadata": {},
   "outputs": [],
   "source": [
    "#Osservando la sintassi dei dizionari, possiamo notare qualche affinità con il formato JSON?"
   ]
  },
  {
   "cell_type": "code",
   "execution_count": null,
   "id": "d99493c0-2780-4e5a-8caa-2b894f8dae22",
   "metadata": {},
   "outputs": [],
   "source": [
    "#sintassi molto simile"
   ]
  },
  {
   "cell_type": "code",
   "execution_count": null,
   "id": "7c717305-9b86-4310-9a83-524c53be9005",
   "metadata": {},
   "outputs": [],
   "source": [
    "#Scrivere un programma che, data una lista di numeri, fornisca in output il minimo e il massimo (possiamo usare o meno le funzioni built-in min() e max())."
   ]
  },
  {
   "cell_type": "code",
   "execution_count": null,
   "id": "026bdce5-64a8-42f6-be26-2f60fce95935",
   "metadata": {},
   "outputs": [],
   "source": [
    "\n",
    "numeri = []\n",
    "lunghezza_lista = int(input(\"inserire lunghezza lista\"))\n",
    "while len(numeri) < lunghezza_lista:\n",
    "    numero = int(input(\"inserire numero intero\"))\n",
    "    numeri.append(numero)\n",
    "print(f\"\\nil minimo è {min(numeri)}\\nil massimo è {max(numeri)}\")\n",
    "\n"
   ]
  },
  {
   "cell_type": "code",
   "execution_count": null,
   "id": "80730013-a6d8-40b7-ad87-3ac06aa8275f",
   "metadata": {},
   "outputs": [],
   "source": [
    "#Scrivere un programma che, data una lista di numeri, fornisca in output i tre numeri più grandi; gestire il caso in cui la lista sia più corta di tre, \n",
    "#e quando uno o più dei numeri selezionati sono uguali."
   ]
  },
  {
   "cell_type": "code",
   "execution_count": 15,
   "id": "327bc861-d623-45bf-9f56-3a5a3529f7c2",
   "metadata": {},
   "outputs": [
    {
     "name": "stdin",
     "output_type": "stream",
     "text": [
      "inserire lunghezza lista 5\n",
      "inserire numero intero 2\n",
      "inserire numero intero 4\n",
      "inserire numero intero 5\n",
      "inserire numero intero 2\n",
      "inserire numero intero 1\n"
     ]
    },
    {
     "name": "stdout",
     "output_type": "stream",
     "text": [
      "I tre numeri massimi sono 2, 4 e 5\n"
     ]
    }
   ],
   "source": [
    "numeri = []\n",
    "massimi = []\n",
    "lunghezza_lista = int(input(\"inserire lunghezza lista\"))\n",
    "while len(numeri) < lunghezza_lista:\n",
    "    numero = int(input(\"inserire numero intero\"))\n",
    "    numeri.append(numero)\n",
    "unici = set(numeri)\n",
    "if len(unici) >= 3:\n",
    "    lista_finale = list(unici)\n",
    "    lista_finale.sort()\n",
    "    for indice in range(-3,0):\n",
    "        massimi.append(lista_finale[indice])    \n",
    "    print(f\"I tre numeri massimi sono {massimi[0]}, {massimi[1]} e {massimi[2]}\")\n",
    "else:\n",
    "    print(\"Devono essere inseriti almeno 3 numeri distinti\")"
   ]
  },
  {
   "cell_type": "code",
   "execution_count": null,
   "id": "8b02a1b0-fd42-468b-9705-4edb3f9e5c77",
   "metadata": {},
   "outputs": [],
   "source": [
    "#Scrivere un programma che \n",
    "#• in input acquisisce una lista di numeri e un numero K \n",
    "#• in output, dovrà restituire la media di tutti i numeri nella lista maggiori o uguali a K \n",
    "#• se non ce ne dovesse essere nessuno, dovrà stampare a schermo un messaggio adeguato."
   ]
  },
  {
   "cell_type": "code",
   "execution_count": null,
   "id": "2fb3d79b-2dcc-4a6f-81b5-a349b5ade007",
   "metadata": {},
   "outputs": [],
   "source": [
    "numeri = []\n",
    "selezione_per_media = []\n",
    "lunghezza_lista = int(input(\"inserire lunghezza lista\"))\n",
    "K = int(input(\"inserire un numero K\"))\n",
    "while len(numeri) < lunghezza_lista:\n",
    "    numero = int(input(\"inserire numero intero\"))\n",
    "    numeri.append(numero)\n",
    "for possibile_numero in numeri:\n",
    "    if possibile_numero >= K:\n",
    "        selezione_per_media.append(possibile_numero)\n",
    "if len(selezione_per_media) == 0:\n",
    "    print(\"nessun numero immesso era maggiore o uguale a K\")\n",
    "else:\n",
    "    print(f\"La media è {sum(selezione_per_media)/len(selezione_per_media)}\")\n",
    "\n"
   ]
  },
  {
   "cell_type": "code",
   "execution_count": null,
   "id": "40c99d33-f8e1-41b1-819e-d45d391c6809",
   "metadata": {},
   "outputs": [],
   "source": [
    "#Scrivere un programma che, data una lista di numeri, come output stamperà lo stesso numero di asterischi su righe diverse, \n",
    "#ottenendo una semplice visualizzazione grafica Esempio, supponendo di avere il seguente input: \n",
    "#numeri = [5, 2, 3, 4] \n",
    "#L'output sarà: \n",
    "#***** \n",
    "#** \n",
    "#*** \n",
    "#****"
   ]
  },
  {
   "cell_type": "code",
   "execution_count": null,
   "id": "bb36d694-69f0-4761-9280-c50acbdff4ca",
   "metadata": {},
   "outputs": [],
   "source": [
    "numeri = []\n",
    "lunghezza_lista = int(input(\"inserire lunghezza lista\"))\n",
    "while len(numeri) < lunghezza_lista:\n",
    "    numero = int(input(\"inserire numero intero\"))\n",
    "    numeri.append(numero)\n",
    "for valore in numeri:\n",
    "    for x in range (0,valore):\n",
    "        print(\"*\",end=\"\")\n",
    "    print()"
   ]
  },
  {
   "cell_type": "code",
   "execution_count": null,
   "id": "31fbfaea-4a8c-452d-a6c6-9e0ff7b2f552",
   "metadata": {},
   "outputs": [],
   "source": [
    "#Abbiamo una lista di codici fiscali: \n",
    "#lista_cf = [\"ABCDEF95G01A123B\", \"GHIJKL91M02A321C\", \"MNOPQR89S03A456D\", \"STUVWX95Z04A654E\", \"XYZABC01D05A789F\", \"DEFGHI95J06A987G\"] \n",
    "#• trovare i codici fiscali che contengono \"95\", metterli in una lista, e alla fine stamparla; \n",
    "#• inoltre, per ognuno di essi, stampare a video i caratteri relativi al nome e quelli relativi al cognome."
   ]
  },
  {
   "cell_type": "code",
   "execution_count": 3,
   "id": "19ae06db-9702-4522-a768-0861faa74733",
   "metadata": {},
   "outputs": [
    {
     "name": "stdout",
     "output_type": "stream",
     "text": [
      "codice fiscale ABCDEF95G01A123B, lettere nome DEF, lettere cognome ABC\n",
      "codice fiscale STUVWX95Z04A654E, lettere nome VWX, lettere cognome STU\n",
      "codice fiscale DEFGHI95J06A987G, lettere nome GHI, lettere cognome DEF\n"
     ]
    }
   ],
   "source": [
    "lista_cf = [\"ABCDEF95G01A123B\", \"GHIJKL91M02A321C\", \"MNOPQR89S03A456D\", \"STUVWX95Z04A654E\", \"XYZABC01D05A789F\", \"DEFGHI95J06A987G\"]\n",
    "selezione_cf = []\n",
    "for codice in lista_cf:\n",
    "    index = 0\n",
    "    while index + 1 < len(codice):\n",
    "        if codice[index] == \"9\" and codice[index + 1] == \"5\":\n",
    "            selezione_cf.append(codice)\n",
    "            break\n",
    "        index += 1\n",
    "for codice_selezionato in selezione_cf:\n",
    "    print(f\"codice fiscale {codice_selezionato}, lettere nome {codice_selezionato[3:6]}, lettere cognome {codice_selezionato[:3]}\")"
   ]
  },
  {
   "cell_type": "code",
   "execution_count": 9,
   "id": "fcfc01a9-bd91-42f3-b68c-1fcde56ceae7",
   "metadata": {},
   "outputs": [
    {
     "name": "stdout",
     "output_type": "stream",
     "text": [
      "codice fiscale ABCDEF95G01A123B, lettere nome DEF, lettere cognome ABC\n",
      "codice fiscale ABCDEF95G01A123B, lettere nome DEF, lettere cognome ABC\n",
      "codice fiscale GHIJKL91M02A321C, lettere nome JKL, lettere cognome GHI\n",
      "codice fiscale GHIJKL91M02A321C, lettere nome JKL, lettere cognome GHI\n",
      "codice fiscale XYZABC01D05A789F, lettere nome ABC, lettere cognome XYZ\n"
     ]
    }
   ],
   "source": [
    "lista_cf = [\"ABCDEF95G01A123B\", \"GHIJKL91M02A321C\", \"MNOPQR89S03A456D\", \"STUVWX95Z04A654E\", \"XYZABC01D05A789F\", \"DEFGHI95J06A987G\"]\n",
    "selezione_cf = []\n",
    "for codice in lista_cf:\n",
    "    index = 0\n",
    "    while index + 1 < len(codice):\n",
    "        if codice[index] == \"1\":\n",
    "            selezione_cf.append(codice)\n",
    "            #break\n",
    "        index += 1\n",
    "for codice_selezionato in selezione_cf:\n",
    "    print(f\"codice fiscale {codice_selezionato}, lettere nome {codice_selezionato[3:6]}, lettere cognome {codice_selezionato[:3]}\")"
   ]
  },
  {
   "cell_type": "code",
   "execution_count": null,
   "id": "53e4cd48-d111-42cc-b37a-f9a1e3419d2d",
   "metadata": {},
   "outputs": [],
   "source": [
    "#Abbiamo tre liste della stessa lunghezza, dove ogni elemento nella medesima posizione si riferisce ai dati dello stesso studente: \n",
    "#studenti = [\"Alex\", \"Bob\", \"Cindy\", \"Dan\", \"Emma\", \"Faith\", \"Grace\", \"Henry\"] \n",
    "#corsi = [\"Cybersecurity\", \"Data Analyst\", \"Backend\", \"Frontend\", \"Data Analyst\", \"Backend\", \"Frontend\", \"Cybersecurity\"] \n",
    "#edizioni = [1, 2, 3, 2, 2, 1, 3, 3] \n",
    "#• Stampare a video tutti e soli gli studenti che frequentano una prima edizione; non tutti i dati potrebbero essere necessari. \n",
    "#• Riuscite a vedere una similarità con la logica che si usa in SQL e le tabelle relazionali?"
   ]
  },
  {
   "cell_type": "code",
   "execution_count": 25,
   "id": "63aed4a0-9f19-447a-9810-ae5df2c74820",
   "metadata": {},
   "outputs": [
    {
     "name": "stdout",
     "output_type": "stream",
     "text": [
      "Alex\n",
      "Faith\n"
     ]
    }
   ],
   "source": [
    "studenti = [\"Alex\", \"Bob\", \"Cindy\", \"Dan\", \"Emma\", \"Faith\", \"Grace\", \"Henry\"]\n",
    "corsi = [\"Cybersecurity\", \"Data Analyst\", \"Backend\", \"Frontend\", \"Data Analyst\", \"Backend\", \"Frontend\", \"Cybersecurity\"]\n",
    "edizioni = [1, 2, 3, 2, 2, 1, 3, 3] \n",
    "indici =[]\n",
    "indice = 0\n",
    "while indice < len(edizioni):\n",
    "    if edizioni[indice] == 1:\n",
    "        indici.append(indice)\n",
    "    indice += 1\n",
    "for posizione in indici:\n",
    "    print(studenti[posizione])"
   ]
  },
  {
   "cell_type": "code",
   "execution_count": null,
   "id": "fecf0aaf-140a-418d-8314-cd08b59a29de",
   "metadata": {},
   "outputs": [],
   "source": [
    "#Abbiamo una lista di stringhe di prezzi in dollari, che erroneamente sono stati scritti con il simbolo dell'euro: \n",
    "#prezzi = [\"100 €\", \"200 €\", \"500 €\", \"10 €\", \"50 €\", \"70 €\"] cambiare il simbolo dell'euro (€) in quello del dollaro ($) per ogni stringa nella lista; \n",
    "#il risultato sarà memorizzato in un'altra lista."
   ]
  },
  {
   "cell_type": "code",
   "execution_count": 53,
   "id": "d1d60e74-e303-4ecc-81f0-36c222dc57a8",
   "metadata": {},
   "outputs": [
    {
     "name": "stdout",
     "output_type": "stream",
     "text": [
      "Prezzi corretti: 100 $, 200 $, 500 $, 10 $, 50 $, 70 $\n"
     ]
    }
   ],
   "source": [
    "prezzi = [\"100 €\", \"200 €\", \"500 €\", \"10 €\", \"50 €\", \"70 €\"]\n",
    "prezzi_euro = prezzi[:]\n",
    "prezzi_dollari = []\n",
    "while len(prezzi_euro) != 0:\n",
    "    prezzi_dollari.append(prezzi_euro.pop(0).replace(\"€\",\"$\"))\n",
    "print(f\"Prezzi corretti: {', '.join(prezzi_dollari)}\")"
   ]
  },
  {
   "cell_type": "code",
   "execution_count": null,
   "id": "f5e8357c-a1de-46a7-ae1d-b8b7134551fe",
   "metadata": {},
   "outputs": [],
   "source": [
    "#Abbiamo una lista di studenti: \n",
    "#studenti = [\"Alex\", \"Bob\", \"Cindy\", \"Dan\", \"Emma\", \"Faith\", \"Grace\", \"Henry\", \"Isabelle\", \"John\"] \n",
    "#vogliamo dividere gli studenti in due squadre per un campionato di Uno nel seguente modo: \n",
    "#selezioneremo i nomi in posizione pari per un squadra, e i nomi in posizione dispari per l'altra. \n",
    "#Creiamo due liste per ogni squadra, e alla fine visualizziamole."
   ]
  },
  {
   "cell_type": "code",
   "execution_count": 47,
   "id": "311d52ee-a57a-4d52-b833-3709241fd510",
   "metadata": {},
   "outputs": [
    {
     "name": "stdout",
     "output_type": "stream",
     "text": [
      "team dispari: Alex, Cindy, Emma, Grace, Isabelle\n",
      "team pari: Bob, Dan, Faith, Henry, John\n"
     ]
    }
   ],
   "source": [
    "studenti = [\"Alex\", \"Bob\", \"Cindy\", \"Dan\", \"Emma\", \"Faith\", \"Grace\", \"Henry\", \"Isabelle\", \"John\"]\n",
    "totale_studenti = len(studenti)\n",
    "team_even = []\n",
    "team_odd = []\n",
    "index = 0\n",
    "while index < totale_studenti:\n",
    "    if index&1 != 1:\n",
    "        team_odd.append(studenti[index])\n",
    "    else:\n",
    "        team_even.append(studenti[index])\n",
    "    index += 1\n",
    "print(f\"team dispari: {', '.join(team_odd)}\")\n",
    "print(f\"team pari: {', '.join(team_even)}\")"
   ]
  },
  {
   "cell_type": "code",
   "execution_count": null,
   "id": "425265e2-ddcc-4da2-8cf5-7bb824c75933",
   "metadata": {},
   "outputs": [],
   "source": [
    "#Abbiamo una lista con i guadagni degli ultimi 12 mesi (supponiamo da Gennaio a Dicembre): \n",
    "#guadagni = [100, 90, 70, 40, 50, 80, 90, 120, 80, 20, 50, 50] \n",
    "#dobbiamo confrontare, stampando tutto a video, il guadagno di ogni mese con la media dei guadagni precedenti, e specificare nell'output se \n",
    "#il guadagno attuale è maggiore o minore della media dei precedenti. \n",
    "#Esempio di un possibile output: \n",
    "#Mese 1: 100 € Mese 2: 90 € (media prec: 100 € - il guadagno attuale è minore) Mese 3: 70 € (media prec: 95 € - il guadagno attuale è minore)"
   ]
  },
  {
   "cell_type": "code",
   "execution_count": 138,
   "id": "468de325-0e01-47c6-90da-cfef653a4959",
   "metadata": {},
   "outputs": [
    {
     "name": "stdout",
     "output_type": "stream",
     "text": [
      "Mese\t\tGuadagno\tMedia\t\t\tComparazione\n",
      "mese 1\t\t100\t\tnon disponibile\t\t\tnon disponibile\n",
      "mese 2\t\t90\t\t100.0\t\t\til guadagno attuale è minore\n",
      "mese 3\t\t70\t\t95.0\t\t\til guadagno attuale è minore\n",
      "mese 4\t\t40\t\t87.0\t\t\til guadagno attuale è minore\n",
      "mese 5\t\t50\t\t75.0\t\t\til guadagno attuale è minore\n",
      "mese 6\t\t80\t\t70.0\t\t\til guadagno attuale è maggiore\n",
      "mese 7\t\t90\t\t72.0\t\t\til guadagno attuale è maggiore\n",
      "mese 8\t\t120\t\t74.0\t\t\til guadagno attuale è maggiore\n",
      "mese 9\t\t80\t\t80.0\t\t\til guadagno attuale è uguale\n",
      "mese 10\t\t20\t\t80.0\t\t\til guadagno attuale è minore\n",
      "mese 11\t\t50\t\t74.0\t\t\til guadagno attuale è minore\n",
      "mese 12\t\t50\t\t72.0\t\t\til guadagno attuale è minore\n"
     ]
    }
   ],
   "source": [
    "guadagni = [100, 90, 70, 40, 50, 80, 90, 120, 80, 20, 50, 50]\n",
    "mesi_considerati = len(guadagni)\n",
    "medie_mesi_precedenti = []\n",
    "comparazioni = []\n",
    "mesi = []\n",
    "indice_guadagno = 0\n",
    "indice_media = 0\n",
    "indice_comparazione = 0\n",
    "\n",
    "while indice_guadagno < mesi_considerati:\n",
    "    if indice_guadagno == 0:\n",
    "        medie_mesi_precedenti.append(\"non disponibile\")\n",
    "        comparazioni.append(\"non disponibile\")\n",
    "    else:\n",
    "        media_mesi_precedenti = round(sum(guadagni[:indice_guadagno])/len(guadagni[:indice_guadagno]),0)\n",
    "        medie_mesi_precedenti.append(media_mesi_precedenti)\n",
    "        if guadagni[indice_guadagno] > media_mesi_precedenti:\n",
    "            comparazione = \"il guadagno attuale è maggiore\"\n",
    "        elif guadagni[indice_guadagno] < media_mesi_precedenti:\n",
    "            comparazione = \"il guadagno attuale è minore\"\n",
    "        else:\n",
    "            comparazione = \"il guadagno attuale è uguale\"\n",
    "        comparazioni.append(comparazione) \n",
    "    indice_guadagno += 1\n",
    "    mesi.append(f\"mese {indice_guadagno}\")\n",
    "    \n",
    "indice_guadagno = 0\n",
    "print(\"Mese\\t\\tGuadagno\\tMedia\\t\\t\\tComparazione\")\n",
    "while indice_guadagno < mesi_considerati:\n",
    "    print(f\"{mesi[indice_guadagno]}\\t\\t{guadagni[indice_guadagno]}\\t\\t{medie_mesi_precedenti[indice_guadagno]}\\t\\t\\t{comparazioni[indice_guadagno]}\")\n",
    "    indice_guadagno += 1"
   ]
  },
  {
   "cell_type": "code",
   "execution_count": 136,
   "id": "5e6245ea-637c-453c-9b8f-9618d1722ae4",
   "metadata": {},
   "outputs": [
    {
     "name": "stdout",
     "output_type": "stream",
     "text": [
      "   Mese  Guadagno           Media                   Comparazione\n",
      " mese 1       100 non disponibile                non disponibile\n",
      " mese 2        90           100.0   il guadagno attuale è minore\n",
      " mese 3        70            95.0   il guadagno attuale è minore\n",
      " mese 4        40            87.0   il guadagno attuale è minore\n",
      " mese 5        50            75.0   il guadagno attuale è minore\n",
      " mese 6        80            70.0 il guadagno attuale è maggiore\n",
      " mese 7        90            72.0 il guadagno attuale è maggiore\n",
      " mese 8       120            74.0 il guadagno attuale è maggiore\n",
      " mese 9        80            80.0   il guadagno attuale è uguale\n",
      "mese 10        20            80.0   il guadagno attuale è minore\n",
      "mese 11        50            74.0   il guadagno attuale è minore\n",
      "mese 12        50            72.0   il guadagno attuale è minore\n"
     ]
    }
   ],
   "source": [
    "import pandas as pd\n",
    "guadagni = [100, 90, 70, 40, 50, 80, 90, 120, 80, 20, 50, 50]\n",
    "mesi_considerati = len(guadagni)\n",
    "medie_mesi_precedenti = []\n",
    "comparazioni = []\n",
    "mesi = []\n",
    "indice_guadagno = 0\n",
    "indice_media = 0\n",
    "indice_comparazione = 0\n",
    "\n",
    "while indice_guadagno < mesi_considerati:\n",
    "    if indice_guadagno == 0:\n",
    "        medie_mesi_precedenti.append(\"non disponibile\")\n",
    "        comparazioni.append(\"non disponibile\")\n",
    "    else:\n",
    "        media_mesi_precedenti = round(sum(guadagni[:indice_guadagno])/len(guadagni[:indice_guadagno]),0)\n",
    "        medie_mesi_precedenti.append(media_mesi_precedenti)\n",
    "        if guadagni[indice_guadagno] > media_mesi_precedenti:\n",
    "            comparazione = \"il guadagno attuale è maggiore\"\n",
    "        elif guadagni[indice_guadagno] < media_mesi_precedenti:\n",
    "            comparazione = \"il guadagno attuale è minore\"\n",
    "        else:\n",
    "            comparazione = \"il guadagno attuale è uguale\"\n",
    "        comparazioni.append(comparazione) \n",
    "    indice_guadagno += 1\n",
    "    mesi.append(f\"mese {indice_guadagno}\")\n",
    "    \n",
    "tabella_finale = {\"Mese\":mesi,\"Guadagno\":guadagni,\"Media\":medie_mesi_precedenti,\"Comparazione\":comparazioni}\n",
    "dataframe_tabella_finale = pd.DataFrame(tabella_finale)\n",
    "print(dataframe_tabella_finale.to_string(index = False))"
   ]
  }
 ],
 "metadata": {
  "kernelspec": {
   "display_name": "Python 3 (ipykernel)",
   "language": "python",
   "name": "python3"
  },
  "language_info": {
   "codemirror_mode": {
    "name": "ipython",
    "version": 3
   },
   "file_extension": ".py",
   "mimetype": "text/x-python",
   "name": "python",
   "nbconvert_exporter": "python",
   "pygments_lexer": "ipython3",
   "version": "3.12.7"
  }
 },
 "nbformat": 4,
 "nbformat_minor": 5
}
